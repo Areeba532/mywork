{
 "cells": [
  {
   "cell_type": "code",
   "execution_count": 6,
   "metadata": {},
   "outputs": [
    {
     "name": "stdout",
     "output_type": "stream",
     "text": [
      "Running on local URL:  http://127.0.0.1:7862\n",
      "Running on public URL: https://d682c8132b4ab24cd4.gradio.live\n",
      "\n",
      "This share link expires in 72 hours. For free permanent hosting and GPU upgrades, run `gradio deploy` from Terminal to deploy to Spaces (https://huggingface.co/spaces)\n"
     ]
    },
    {
     "data": {
      "text/html": [
       "<div><iframe src=\"https://d682c8132b4ab24cd4.gradio.live\" width=\"100%\" height=\"500\" allow=\"autoplay; camera; microphone; clipboard-read; clipboard-write;\" frameborder=\"0\" allowfullscreen></iframe></div>"
      ],
      "text/plain": [
       "<IPython.core.display.HTML object>"
      ]
     },
     "metadata": {},
     "output_type": "display_data"
    },
    {
     "data": {
      "text/plain": []
     },
     "execution_count": 6,
     "metadata": {},
     "output_type": "execute_result"
    },
    {
     "name": "stdout",
     "output_type": "stream",
     "text": [
      "Recording...\n",
      "Finished recording.\n"
     ]
    }
   ],
   "source": [
    "import gradio as gr\n",
    "import os\n",
    "import pyaudio\n",
    "import wave\n",
    "\n",
    "# Function to record audio and save it to a folder\n",
    "def record_and_save_audio():\n",
    "    # Specify the folder where you want to save the audio files\n",
    "    save_folder = \"audio_files\"\n",
    "    \n",
    "    # Generate a unique filename (you can use a more sophisticated method)\n",
    "    filename = os.path.join(save_folder, \"user_audio.wav\")\n",
    "    \n",
    "    # Set up audio recording parameters\n",
    "    audio_format = pyaudio.paInt16\n",
    "    channels = 1\n",
    "    sample_rate = 44100\n",
    "    chunk = 1024\n",
    "    record_seconds = 5  # Adjust the duration of recording as needed\n",
    "    \n",
    "    # Initialize PyAudio\n",
    "    audio = pyaudio.PyAudio()\n",
    "    \n",
    "    # Open a new audio stream for recording\n",
    "    stream = audio.open(format=audio_format, channels=channels,\n",
    "                        rate=sample_rate, input=True,\n",
    "                        frames_per_buffer=chunk)\n",
    "    \n",
    "    print(\"Recording...\")\n",
    "    frames = []\n",
    "    \n",
    "    # Record audio for the specified duration\n",
    "    for i in range(0, int(sample_rate / chunk * record_seconds)):\n",
    "        data = stream.read(chunk)\n",
    "        frames.append(data)\n",
    "    \n",
    "    print(\"Finished recording.\")\n",
    "    \n",
    "    # Stop and close the audio stream\n",
    "    stream.stop_stream()\n",
    "    stream.close()\n",
    "    \n",
    "    # Terminate PyAudio\n",
    "    audio.terminate()\n",
    "    \n",
    "    # Save the recorded audio to the specified file\n",
    "    with wave.open(filename, 'wb') as wf:\n",
    "        wf.setnchannels(channels)\n",
    "        wf.setsampwidth(audio.get_sample_size(audio_format))\n",
    "        wf.setframerate(sample_rate)\n",
    "        wf.writeframes(b''.join(frames))\n",
    "    \n",
    "    return \"Audio saved successfully as 'user_audio.wav'.\"\n",
    "\n",
    "# Create a Gradio interface\n",
    "iface = gr.Interface(\n",
    "    fn=record_and_save_audio,  # Function to call when audio is recorded\n",
    "    inputs=None,  # No inputs are defined\n",
    "    outputs=\"text\"  # Display a text message\n",
    ")\n",
    "\n",
    "# Launch the Gradio interface on a specific port\n",
    "iface.launch(share=True)\n"
   ]
  }
 ],
 "metadata": {
  "kernelspec": {
   "display_name": "Python 3",
   "language": "python",
   "name": "python3"
  },
  "language_info": {
   "codemirror_mode": {
    "name": "ipython",
    "version": 3
   },
   "file_extension": ".py",
   "mimetype": "text/x-python",
   "name": "python",
   "nbconvert_exporter": "python",
   "pygments_lexer": "ipython3",
   "version": "3.11.4"
  },
  "orig_nbformat": 4
 },
 "nbformat": 4,
 "nbformat_minor": 2
}
